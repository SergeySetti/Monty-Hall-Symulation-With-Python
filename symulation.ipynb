{
 "cells": [
  {
   "cell_type": "code",
   "execution_count": 70,
   "metadata": {
    "collapsed": true
   },
   "outputs": [],
   "source": [
    "from random import shuffle\n",
    "\n",
    "from numpy.random import choice\n",
    "\n",
    "print_what_happens = False\n",
    "\n",
    "\n",
    "def create_doors():\n",
    "    doors = ['$', 'g', 'g']\n",
    "    shuffle(doors)\n",
    "    if print_what_happens:\n",
    "        print(doors)\n",
    "    return doors\n",
    "\n",
    "\n",
    "def chose_door():\n",
    "    chosen = choice([0, 1, 2])\n",
    "    if print_what_happens:\n",
    "        print(f\"Player first choice: {chosen}\")\n",
    "    return chosen\n",
    "\n",
    "\n",
    "def emcee_opens_door(doors: list, chosen_by_player):\n",
    "    chose_from = [k for k, v in enumerate(doors) if 'g' == v and k != chosen_by_player]\n",
    "    chosen = choice(chose_from)\n",
    "    if print_what_happens:\n",
    "        print(f\"Mc opens: {chosen}\")\n",
    "    return chosen\n",
    "\n",
    "\n",
    "def final_decision(previous_choice, emcee_open, should_be_changed):\n",
    "    if should_be_changed:\n",
    "        variants = [0, 1, 2]\n",
    "        final_ch = [k for k in variants if k != previous_choice and k != emcee_open][0]\n",
    "        if print_what_happens:\n",
    "            print(f\"Final choice: {final_ch}\")\n",
    "        return final_ch\n",
    "    return previous_choice\n",
    "\n",
    "\n",
    "def is_it_win(final_dec, doors):\n",
    "    res = doors[final_dec] == '$'\n",
    "    if print_what_happens:\n",
    "        print(f\"Is in win? {res}\")\n",
    "    return doors[final_dec] == '$'"
   ]
  },
  {
   "cell_type": "code",
   "execution_count": 71,
   "outputs": [
    {
     "name": "stdout",
     "output_type": "stream",
     "text": [
      "Win rate when decision is changed: 0.67\n",
      "Win rate when decision is not changed: 0.27\n"
     ]
    }
   ],
   "source": [
    "from statistics import mean\n",
    "\n",
    "def run_simulation(final_decision_should_be_changed, iterations = 100):\n",
    "    win_stat = []\n",
    "    for i in range(iterations):\n",
    "        game_doors = create_doors()\n",
    "        chosen_door = chose_door()\n",
    "        mc_opens = emcee_opens_door(game_doors, chosen_door)\n",
    "        final_choice = final_decision(chosen_door, mc_opens, should_be_changed=final_decision_should_be_changed)\n",
    "        destiny = is_it_win(final_choice, game_doors)\n",
    "        win_stat.append(int(destiny))\n",
    "    return mean(win_stat)\n",
    "\n",
    "print(f\"Win rate when decision is changed: {run_simulation(final_decision_should_be_changed = True)}\")\n",
    "print(f\"Win rate when decision is not changed: {run_simulation(final_decision_should_be_changed = False)}\")\n"
   ],
   "metadata": {
    "collapsed": false
   }
  }
 ],
 "metadata": {
  "kernelspec": {
   "display_name": "Python 3",
   "language": "python",
   "name": "python3"
  },
  "language_info": {
   "codemirror_mode": {
    "name": "ipython",
    "version": 2
   },
   "file_extension": ".py",
   "mimetype": "text/x-python",
   "name": "python",
   "nbconvert_exporter": "python",
   "pygments_lexer": "ipython2",
   "version": "2.7.6"
  }
 },
 "nbformat": 4,
 "nbformat_minor": 0
}
